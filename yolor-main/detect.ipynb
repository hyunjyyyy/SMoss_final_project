{
 "cells": [
  {
   "cell_type": "markdown",
   "id": "1a5f06bd",
   "metadata": {},
   "source": [
    "## 1. 패키지 로딩"
   ]
  },
  {
   "cell_type": "code",
   "execution_count": null,
   "id": "5bc5eaa3",
   "metadata": {
    "ExecuteTime": {
     "end_time": "2023-01-16T06:03:39.369679Z",
     "start_time": "2023-01-16T06:03:37.650393Z"
    }
   },
   "outputs": [],
   "source": [
    "import argparse\n",
    "import os\n",
    "import platform\n",
    "import shutil\n",
    "import time\n",
    "from pathlib import Path\n",
    "\n",
    "import cv2\n",
    "import torch\n",
    "import torch.backends.cudnn as cudnn\n",
    "from numpy import random\n",
    "\n",
    "from utils.google_utils import attempt_load\n",
    "from utils.datasets import LoadStreams, LoadImages\n",
    "from utils.general import (\n",
    "    check_img_size, non_max_suppression, apply_classifier, scale_coords, xyxy2xywh, strip_optimizer)\n",
    "from utils.plots import plot_one_box\n",
    "from utils.torch_utils import select_device, load_classifier, time_synchronized\n",
    "\n",
    "from models.models import *\n",
    "from utils.datasets import *\n",
    "from utils.general import *\n"
   ]
  },
  {
   "cell_type": "markdown",
   "id": "5d01ce7e",
   "metadata": {
    "ExecuteTime": {
     "end_time": "2022-12-27T09:13:01.948582Z",
     "start_time": "2022-12-27T09:13:01.939585Z"
    }
   },
   "source": [
    "## 2. 환경설정 변수"
   ]
  },
  {
   "cell_type": "code",
   "execution_count": null,
   "id": "e9aee34d",
   "metadata": {
    "ExecuteTime": {
     "end_time": "2023-01-16T06:03:40.305034Z",
     "start_time": "2023-01-16T06:03:40.287007Z"
    }
   },
   "outputs": [],
   "source": [
    "opt = argparse.Namespace(\n",
    "    weights = ['runs/train/newconn_model/weights/last.pt'],\n",
    "    source = 'C:/data/inference',\n",
    "    output = 'C:/data/inference/output',\n",
    "    cfg='cfg/yolor_p6.cfg',\n",
    "    img_size = 1280,\n",
    "    conf_thres=0.01,\n",
    "    iou_thres=0.5,  # for NMS\n",
    "    device = '0',\n",
    "    view_img = False,\n",
    "    save_txt=False,\n",
    "    classes=None,\n",
    "    agnostic_nms=True,\n",
    "    augment=False,\n",
    "    update=False,\n",
    "    names='data/newconn.names'\n",
    ")\n"
   ]
  },
  {
   "cell_type": "markdown",
   "id": "96fbd542",
   "metadata": {},
   "source": [
    "## 3. 예측 함수"
   ]
  },
  {
   "cell_type": "code",
   "execution_count": null,
   "id": "3cc31c07",
   "metadata": {
    "ExecuteTime": {
     "end_time": "2023-01-16T06:03:43.304844Z",
     "start_time": "2023-01-16T06:03:43.279889Z"
    }
   },
   "outputs": [],
   "source": [
    "def load_classes(path):\n",
    "    # Loads *.names file at 'path'\n",
    "    with open(path, 'r') as f:\n",
    "        names = f.read().split('\\n')\n",
    "    return list(filter(None, names))  # filter removes empty strings (such as last line)\n",
    "\n",
    "def detect(save_img=False):\n",
    "    out, source, weights, view_img, save_txt, imgsz, cfg, names = \\\n",
    "        opt.output, opt.source, opt.weights, opt.view_img, opt.save_txt, opt.img_size, opt.cfg, opt.names\n",
    "    webcam = source == '0' or source.startswith('rtsp') or source.startswith('http') or source.endswith('.txt')\n",
    "\n",
    "    # Initialize\n",
    "    device = select_device(opt.device)\n",
    "    if os.path.exists(out):\n",
    "        shutil.rmtree(out)  # delete output folder\n",
    "    os.makedirs(out)  # make new output folder\n",
    "    half = device.type != 'cpu'  # half precision only supported on CUDA\n",
    "\n",
    "    # Load model\n",
    "    model = Darknet(cfg, imgsz).cuda()\n",
    "    model.load_state_dict(torch.load(weights[0], map_location=device)['model'])\n",
    "    #model = attempt_load(weights, map_location=device)  # load FP32 model\n",
    "    #imgsz = check_img_size(imgsz, s=model.stride.max())  # check img_size\n",
    "    model.to(device).eval()\n",
    "    if half:\n",
    "        model.half()  # to FP16\n",
    "\n",
    "    # Second-stage classifier\n",
    "    classify = False\n",
    "    if classify:\n",
    "        modelc = load_classifier(name='resnet101', n=2)  # initialize\n",
    "        modelc.load_state_dict(torch.load('weights/resnet101.pt', map_location=device)['model'])  # load weights\n",
    "        modelc.to(device).eval()\n",
    "\n",
    "    # Set Dataloader\n",
    "    vid_path, vid_writer = None, None\n",
    "    if webcam:\n",
    "        view_img = True\n",
    "        cudnn.benchmark = True  # set True to speed up constant image size inference\n",
    "        dataset = LoadStreams(source, img_size=imgsz)\n",
    "    else:\n",
    "        save_img = True\n",
    "        dataset = LoadImages(source, img_size=imgsz, auto_size=64)\n",
    "\n",
    "    # Get names and colors\n",
    "    names = load_classes(names)\n",
    "    colors = [[random.randint(0, 255) for _ in range(3)] for _ in range(len(names))]\n",
    "\n",
    "    # Run inference\n",
    "    t0 = time.time()\n",
    "    img = torch.zeros((1, 3, imgsz, imgsz), device=device)  # init img\n",
    "    _ = model(img.half() if half else img) if device.type != 'cpu' else None  # run once\n",
    "    for path, img, im0s, vid_cap in dataset:\n",
    "        img = torch.from_numpy(img).to(device)\n",
    "        img = img.half() if half else img.float()  # uint8 to fp16/32\n",
    "        img /= 255.0  # 0 - 255 to 0.0 - 1.0\n",
    "        if img.ndimension() == 3:\n",
    "            img = img.unsqueeze(0)\n",
    "\n",
    "        # Inference\n",
    "        t1 = time_synchronized()\n",
    "        pred = model(img, augment=opt.augment)[0]\n",
    "\n",
    "        # Apply NMS\n",
    "        pred = non_max_suppression(pred, opt.conf_thres, opt.iou_thres, classes=opt.classes, agnostic=opt.agnostic_nms)\n",
    "        t2 = time_synchronized()\n",
    "\n",
    "        # Apply Classifier\n",
    "        if classify:\n",
    "            pred = apply_classifier(pred, modelc, img, im0s)\n",
    "\n",
    "        # Process detections\n",
    "        for i, det in enumerate(pred):  # detections per image\n",
    "            if webcam:  # batch_size >= 1\n",
    "                p, s, im0 = path[i], '%g: ' % i, im0s[i].copy()\n",
    "            else:\n",
    "                p, s, im0 = path, '', im0s\n",
    "\n",
    "            save_path = str(Path(out) / Path(p).name)\n",
    "            txt_path = str(Path(out) / Path(p).stem) + ('_%g' % dataset.frame if dataset.mode == 'video' else '')\n",
    "            s += '%gx%g ' % img.shape[2:]  # print string\n",
    "            gn = torch.tensor(im0.shape)[[1, 0, 1, 0]]  # normalization gain whwh\n",
    "            if det is not None and len(det):\n",
    "                # Rescale boxes from img_size to im0 size\n",
    "                det[:, :4] = scale_coords(img.shape[2:], det[:, :4], im0.shape).round()\n",
    "\n",
    "                # Print results\n",
    "                for c in det[:, -1].unique():\n",
    "                    n = (det[:, -1] == c).sum()  # detections per class\n",
    "                    s += '%g %ss, ' % (n, names[int(c)])  # add to string\n",
    "\n",
    "                # Write results\n",
    "                for *xyxy, conf, cls in det:\n",
    "                    if save_txt:  # Write to file\n",
    "                        xywh = (xyxy2xywh(torch.tensor(xyxy).view(1, 4)) / gn).view(-1).tolist()  # normalized xywh\n",
    "                        with open(txt_path + '.txt', 'a') as f:\n",
    "                            f.write(('%g ' * 5 + '\\n') % (cls, *xywh))  # label format\n",
    "\n",
    "                    if save_img or view_img:  # Add bbox to image\n",
    "                        label = '%s %.2f' % (names[int(cls)], conf)\n",
    "                        plot_one_box(xyxy, im0, label=label, color=colors[int(cls)], line_thickness=3)\n",
    "\n",
    "            # Print time (inference + NMS)\n",
    "            print('%sDone. (%.3fs)' % (s, t2 - t1))\n",
    "\n",
    "            # Stream results\n",
    "            if view_img:\n",
    "                cv2.imshow(p, im0)\n",
    "                if cv2.waitKey(1) == ord('q'):  # q to quit\n",
    "                    raise StopIteration\n",
    "\n",
    "            # Save results (image with detections)\n",
    "            if save_img:\n",
    "                if dataset.mode == 'images':\n",
    "                    cv2.imwrite(save_path, im0)\n",
    "                else:\n",
    "                    if vid_path != save_path:  # new video\n",
    "                        vid_path = save_path\n",
    "                        if isinstance(vid_writer, cv2.VideoWriter):\n",
    "                            vid_writer.release()  # release previous video writer\n",
    "\n",
    "                        fourcc = 'mp4v'  # output video codec\n",
    "                        fps = vid_cap.get(cv2.CAP_PROP_FPS)\n",
    "                        w = int(vid_cap.get(cv2.CAP_PROP_FRAME_WIDTH))\n",
    "                        h = int(vid_cap.get(cv2.CAP_PROP_FRAME_HEIGHT))\n",
    "                        vid_writer = cv2.VideoWriter(save_path, cv2.VideoWriter_fourcc(*fourcc), fps, (w, h))\n",
    "                    vid_writer.write(im0)\n",
    "\n",
    "    if save_txt or save_img:\n",
    "        print('Results saved to %s' % Path(out))\n",
    "        if platform == 'darwin' and not opt.update:  # MacOS\n",
    "            os.system('open ' + save_path)\n",
    "\n",
    "    print('Done. (%.3fs)' % (time.time() - t0))"
   ]
  },
  {
   "cell_type": "markdown",
   "id": "1c253c88",
   "metadata": {},
   "source": [
    "## 4. 예측 실행 및 결과 생성"
   ]
  },
  {
   "cell_type": "code",
   "execution_count": null,
   "id": "2507962e",
   "metadata": {
    "ExecuteTime": {
     "end_time": "2023-01-16T06:03:53.379224Z",
     "start_time": "2023-01-16T06:03:44.650681Z"
    }
   },
   "outputs": [],
   "source": [
    "\n",
    "print(opt)\n",
    "\n",
    "with torch.no_grad():\n",
    "        if opt.update:  # update all models (to fix SourceChangeWarning)\n",
    "            for opt.weights in ['']:\n",
    "                detect()\n",
    "                strip_optimizer(opt.weights)\n",
    "        else:\n",
    "            detect()"
   ]
  },
  {
   "cell_type": "code",
   "execution_count": null,
   "id": "f35ae25d",
   "metadata": {},
   "outputs": [],
   "source": []
  }
 ],
 "metadata": {
  "kernelspec": {
   "display_name": "Python 3 (ipykernel)",
   "language": "python",
   "name": "python3"
  },
  "language_info": {
   "codemirror_mode": {
    "name": "ipython",
    "version": 3
   },
   "file_extension": ".py",
   "mimetype": "text/x-python",
   "name": "python",
   "nbconvert_exporter": "python",
   "pygments_lexer": "ipython3",
   "version": "3.7.6"
  },
  "varInspector": {
   "cols": {
    "lenName": 16,
    "lenType": 16,
    "lenVar": 40
   },
   "kernels_config": {
    "python": {
     "delete_cmd_postfix": "",
     "delete_cmd_prefix": "del ",
     "library": "var_list.py",
     "varRefreshCmd": "print(var_dic_list())"
    },
    "r": {
     "delete_cmd_postfix": ") ",
     "delete_cmd_prefix": "rm(",
     "library": "var_list.r",
     "varRefreshCmd": "cat(var_dic_list()) "
    }
   },
   "types_to_exclude": [
    "module",
    "function",
    "builtin_function_or_method",
    "instance",
    "_Feature"
   ],
   "window_display": false
  }
 },
 "nbformat": 4,
 "nbformat_minor": 5
}
